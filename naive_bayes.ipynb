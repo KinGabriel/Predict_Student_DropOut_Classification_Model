{
 "cells": [
  {
   "cell_type": "code",
   "execution_count": 14,
   "metadata": {},
   "outputs": [],
   "source": [
    "import numpy as np\n",
    "import pandas as pd\n",
    "from sklearn.model_selection import train_test_split, StratifiedKFold, cross_val_score\n",
    "from sklearn.preprocessing import LabelEncoder\n",
    "from sklearn.naive_bayes import GaussianNB\n",
    "from sklearn.metrics import ConfusionMatrixDisplay,accuracy_score, precision_score, recall_score, roc_auc_score, confusion_matrix\n",
    "import matplotlib.colors as colors\n",
    "import matplotlib.pyplot as plt\n",
    "\n",
    "# Load dataset\n",
    "data = pd.read_csv('Predict_Academic_Success_Modified.csv')\n",
    "\n",
    "# Convert categorical columns to numerical using Label Encoding\n",
    "categorical_columns = [\"Previous qualification\", \"Mother's qualification\", \"Father's qualification\", \"Nacionality\",\n",
    "                    \"Mother's occupation\", \"Father's occupation\", \"Marital status\", \"Application mode\",\n",
    "                    \"Course\", \"Daytime/evening attendance\", \"Displaced\", \"Educational special needs\", \n",
    "                    \"Debtor\", \"Tuition fees up to date\", \"Gender\", \"Scholarship holder\", \"International\"]\n",
    "label_encoders = {}\n",
    "for col in categorical_columns:\n",
    "    le = LabelEncoder()\n",
    "    data[col] = le.fit_transform(data[col])\n",
    "    label_encoders[col] = le  # Save encoder in case we need to transform new data"
   ]
  },
  {
   "cell_type": "code",
   "execution_count": 15,
   "metadata": {},
   "outputs": [],
   "source": [
    "# Convert the target using Label Encoding ('Dropout', 'Enrolled', 'Graduate')\n",
    "label_encoder = LabelEncoder()\n",
    "data[\"Target\"] = label_encoder.fit_transform(data[\"Target\"])"
   ]
  },
  {
   "cell_type": "code",
   "execution_count": 16,
   "metadata": {},
   "outputs": [],
   "source": [
    "# 90% for training/testing, 10% for unseen validation\n",
    "train_test_data, unseen_data = train_test_split(data, test_size=0.10, random_state=42, stratify=data[\"Target\"])"
   ]
  },
  {
   "cell_type": "code",
   "execution_count": 17,
   "metadata": {},
   "outputs": [],
   "source": [
    "# Split the 90% into 80% training and 20% testing\n",
    "train_data, test_data = train_test_split(\n",
    "    train_test_data, test_size=0.20, random_state=42, stratify=train_test_data[\"Target\"]\n",
    ")"
   ]
  },
  {
   "cell_type": "code",
   "execution_count": 18,
   "metadata": {},
   "outputs": [],
   "source": [
    "# Separate features and target variables\n",
    "X_train = train_data.drop(columns=[\"Target\"])\n",
    "y_train = train_data[\"Target\"]\n",
    "X_test = test_data.drop(columns=[\"Target\"])\n",
    "y_test = test_data[\"Target\"]"
   ]
  },
  {
   "cell_type": "code",
   "execution_count": 19,
   "metadata": {},
   "outputs": [],
   "source": [
    "# Initialize Naive Bayes model\n",
    "nb_model = GaussianNB()"
   ]
  },
  {
   "cell_type": "code",
   "execution_count": 20,
   "metadata": {},
   "outputs": [
    {
     "name": "stdout",
     "output_type": "stream",
     "text": [
      "Cross-validation accuracy scores: \n",
      "[0.70532915 0.66144201 0.69592476 0.68338558 0.72641509 0.76100629\n",
      " 0.69496855 0.64779874 0.68553459 0.73899371]\n",
      "\n",
      "\n",
      "Evaluation Metrics:\n"
     ]
    },
    {
     "data": {
      "text/html": [
       "<div>\n",
       "<style scoped>\n",
       "    .dataframe tbody tr th:only-of-type {\n",
       "        vertical-align: middle;\n",
       "    }\n",
       "\n",
       "    .dataframe tbody tr th {\n",
       "        vertical-align: top;\n",
       "    }\n",
       "\n",
       "    .dataframe thead th {\n",
       "        text-align: right;\n",
       "    }\n",
       "</style>\n",
       "<table border=\"1\" class=\"dataframe\">\n",
       "  <thead>\n",
       "    <tr style=\"text-align: right;\">\n",
       "      <th></th>\n",
       "      <th>Metric</th>\n",
       "      <th>Score</th>\n",
       "    </tr>\n",
       "  </thead>\n",
       "  <tbody>\n",
       "    <tr>\n",
       "      <th>0</th>\n",
       "      <td>Mean cross-validation accuracy</td>\n",
       "      <td>0.700080</td>\n",
       "    </tr>\n",
       "    <tr>\n",
       "      <th>1</th>\n",
       "      <td>Accuracy:</td>\n",
       "      <td>0.691343</td>\n",
       "    </tr>\n",
       "    <tr>\n",
       "      <th>2</th>\n",
       "      <td>Precision:</td>\n",
       "      <td>0.678075</td>\n",
       "    </tr>\n",
       "    <tr>\n",
       "      <th>3</th>\n",
       "      <td>Recall:</td>\n",
       "      <td>0.691343</td>\n",
       "    </tr>\n",
       "    <tr>\n",
       "      <th>4</th>\n",
       "      <td>ROC-AUC:</td>\n",
       "      <td>0.793278</td>\n",
       "    </tr>\n",
       "  </tbody>\n",
       "</table>\n",
       "</div>"
      ],
      "text/plain": [
       "                           Metric     Score\n",
       "0  Mean cross-validation accuracy  0.700080\n",
       "1                       Accuracy:  0.691343\n",
       "2                      Precision:  0.678075\n",
       "3                         Recall:  0.691343\n",
       "4                        ROC-AUC:  0.793278"
      ]
     },
     "execution_count": 20,
     "metadata": {},
     "output_type": "execute_result"
    },
    {
     "data": {
      "image/png": "[encoded data removed]",
      "text/plain": [
       "<Figure size 640x480 with 2 Axes>"
      ]
     },
     "metadata": {},
     "output_type": "display_data"
    }
   ],
   "source": [
    "# Apply 10-fold cross-validation\n",
    "cv = StratifiedKFold(n_splits=10, shuffle=True, random_state=42)\n",
    "cross_val_scores = cross_val_score(nb_model, X_train, y_train, cv=cv, scoring='accuracy')\n",
    "print(f\"Cross-validation accuracy scores: \\n{cross_val_scores}\\n\")\n",
    "\n",
    "\n",
    "# Train the model\n",
    "nb_model.fit(X_train, y_train)\n",
    "\n",
    "# Make predictions\n",
    "y_pred = nb_model.predict(X_test)\n",
    "\n",
    "# Evaluation metrics\n",
    "accuracy = accuracy_score(y_test, y_pred)\n",
    "precision = precision_score(y_test, y_pred, average='weighted')\n",
    "recall = recall_score(y_test, y_pred, average='weighted')\n",
    "roc_auc = roc_auc_score(y_test, nb_model.predict_proba(X_test), multi_class=\"ovr\")\n",
    "\n",
    "# Confusion Matrix\n",
    "conf_matrix = confusion_matrix(y_test, y_pred)\n",
    "\n",
    "# Create a DataFrame for the evaluation metrics\n",
    "results_df = pd.DataFrame({\n",
    "    \"Metric\": [\"Mean cross-validation accuracy\",\"Accuracy:\", \"Precision:\", \"Recall:\", \"ROC-AUC:\"],\n",
    "    \"Score\": [cross_val_scores.mean(),accuracy, precision, recall, roc_auc]\n",
    "})\n",
    "\n",
    "\n",
    "\n",
    "\n",
    "# Display Confusion Matrix of testing data\n",
    "class_names = ['Dropout', 'Enrolled', 'Graduate']\n",
    "df_unseen_metrics = pd.DataFrame(conf_matrix)\n",
    "disp = ConfusionMatrixDisplay.from_predictions(\n",
    "    y_test, y_pred, display_labels=class_names, cmap=plt.cm.Blues\n",
    ")\n",
    "# Print the results in tabular form\n",
    "print(\"\\nEvaluation Metrics:\")\n",
    "results_df"
   ]
  },
  {
   "cell_type": "code",
   "execution_count": 21,
   "metadata": {},
   "outputs": [],
   "source": [
    "# Load the unseen 10% dataset\n",
    "X_unseen = unseen_data.drop(columns=[\"Target\"])\n",
    "y_unseen = unseen_data[\"Target\"]"
   ]
  },
  {
   "cell_type": "code",
   "execution_count": 22,
   "metadata": {},
   "outputs": [],
   "source": [
    "# Use the trained model to predict outcomes for the unseen data\n",
    "y_unseen_pred = nb_model.predict(X_unseen)"
   ]
  },
  {
   "cell_type": "code",
   "execution_count": 25,
   "metadata": {},
   "outputs": [
    {
     "name": "stdout",
     "output_type": "stream",
     "text": [
      "\n",
      "Confusion Matrix for Unseen Data:\n",
      "\n",
      "          Dropout  Enrolled  Graduate\n",
      "Dropout        94        33        15\n",
      "Enrolled       13        27        40\n",
      "Graduate       14        25       182\n",
      "\n",
      "Unseen Data Evaluation Metrics:\n",
      "\n"
     ]
    },
    {
     "data": {
      "text/html": [
       "<div>\n",
       "<style scoped>\n",
       "    .dataframe tbody tr th:only-of-type {\n",
       "        vertical-align: middle;\n",
       "    }\n",
       "\n",
       "    .dataframe tbody tr th {\n",
       "        vertical-align: top;\n",
       "    }\n",
       "\n",
       "    .dataframe thead th {\n",
       "        text-align: right;\n",
       "    }\n",
       "</style>\n",
       "<table border=\"1\" class=\"dataframe\">\n",
       "  <thead>\n",
       "    <tr style=\"text-align: right;\">\n",
       "      <th></th>\n",
       "      <th>Metric</th>\n",
       "      <th>Score</th>\n",
       "    </tr>\n",
       "  </thead>\n",
       "  <tbody>\n",
       "    <tr>\n",
       "      <th>0</th>\n",
       "      <td>Cross-Validation Accuracy</td>\n",
       "      <td>0.693465</td>\n",
       "    </tr>\n",
       "    <tr>\n",
       "      <th>1</th>\n",
       "      <td>Accuracy</td>\n",
       "      <td>0.683973</td>\n",
       "    </tr>\n",
       "    <tr>\n",
       "      <th>2</th>\n",
       "      <td>Precision</td>\n",
       "      <td>0.689478</td>\n",
       "    </tr>\n",
       "    <tr>\n",
       "      <th>3</th>\n",
       "      <td>Recall</td>\n",
       "      <td>0.683973</td>\n",
       "    </tr>\n",
       "    <tr>\n",
       "      <th>4</th>\n",
       "      <td>ROC-AUC</td>\n",
       "      <td>0.829791</td>\n",
       "    </tr>\n",
       "  </tbody>\n",
       "</table>\n",
       "</div>"
      ],
      "text/plain": [
       "                      Metric     Score\n",
       "0  Cross-Validation Accuracy  0.693465\n",
       "1                   Accuracy  0.683973\n",
       "2                  Precision  0.689478\n",
       "3                     Recall  0.683973\n",
       "4                    ROC-AUC  0.829791"
      ]
     },
     "execution_count": 25,
     "metadata": {},
     "output_type": "execute_result"
    },
    {
     "data": {
      "image/png": "[encoded data removed]",
      "text/plain": [
       "<Figure size 640x480 with 2 Axes>"
      ]
     },
     "metadata": {},
     "output_type": "display_data"
    }
   ],
   "source": [
    "# Cross-Validation Accuracy\n",
    "cv_accuracy = cross_val_score(nb_model, X_train, y_train, cv=5, scoring='accuracy').mean()\n",
    "\n",
    "# Accuracy\n",
    "unseen_accuracy = accuracy_score(y_unseen, y_unseen_pred)\n",
    "\n",
    "# Precision\n",
    "unseen_precision = precision_score(y_unseen, y_unseen_pred, average='weighted')\n",
    "\n",
    "# Recall\n",
    "unseen_recall = recall_score(y_unseen, y_unseen_pred, average='weighted')\n",
    "\n",
    "# ROC-AUC Score\n",
    "unseen_roc_auc = roc_auc_score(y_unseen, nb_model.predict_proba(X_unseen), multi_class=\"ovr\")\n",
    "\n",
    "# Confusion Matrix\n",
    "unseen_conf_matrix = confusion_matrix(y_unseen, y_unseen_pred)\n",
    "\n",
    "# Create evaluation metrics DataFrame\n",
    "unseen_results_df = pd.DataFrame({\n",
    "    \"Metric\": [\"Cross-Validation Accuracy\", \"Accuracy\", \"Precision\", \"Recall\", \"ROC-AUC\"],\n",
    "    \"Score\": [cv_accuracy, unseen_accuracy, unseen_precision, unseen_recall, unseen_roc_auc]\n",
    "})\n",
    "\n",
    "\n",
    "\n",
    "# Display Confusion Matrix\n",
    "unseen_conf_matrix_df = pd.DataFrame(unseen_conf_matrix, \n",
    "                                     index=label_encoder.classes_, \n",
    "                                     columns=label_encoder.classes_)\n",
    "\n",
    "print(\"\\nConfusion Matrix for Unseen Data:\\n\")\n",
    "print(unseen_conf_matrix_df)\n",
    "\n",
    "# Calculate matches (diagonal values)\n",
    "matches = np.diag(unseen_conf_matrix)\n",
    "\n",
    "# Calculate mismatches (row sum - diagonal)\n",
    "mismatches = unseen_conf_matrix.sum(axis=1) - matches\n",
    "\n",
    "# Display Confusion Matrix of testing data\n",
    "class_names = ['Dropout', 'Enrolled', 'Graduate']\n",
    "df_unseen_metrics = pd.DataFrame(unseen_conf_matrix)\n",
    "disp = ConfusionMatrixDisplay.from_predictions(\n",
    "    y_unseen, y_unseen_pred, display_labels=class_names, cmap=plt.cm.Blues\n",
    ")\n",
    "print(\"\\nUnseen Data Evaluation Metrics:\\n\")\n",
    "unseen_results_df"
   ]
  },
  {
   "cell_type": "code",
   "execution_count": 24,
   "metadata": {},
   "outputs": [
    {
     "name": "stdout",
     "output_type": "stream",
     "text": [
      "\n",
      "Actual Vs Predicted:\n",
      "\n"
     ]
    },
    {
     "data": {
      "text/html": [
       "<div>\n",
       "<style scoped>\n",
       "    .dataframe tbody tr th:only-of-type {\n",
       "        vertical-align: middle;\n",
       "    }\n",
       "\n",
       "    .dataframe tbody tr th {\n",
       "        vertical-align: top;\n",
       "    }\n",
       "\n",
       "    .dataframe thead th {\n",
       "        text-align: right;\n",
       "    }\n",
       "</style>\n",
       "<table border=\"1\" class=\"dataframe\">\n",
       "  <thead>\n",
       "    <tr style=\"text-align: right;\">\n",
       "      <th></th>\n",
       "      <th>Category</th>\n",
       "      <th>Matches</th>\n",
       "      <th>Mismatches</th>\n",
       "    </tr>\n",
       "  </thead>\n",
       "  <tbody>\n",
       "    <tr>\n",
       "      <th>0</th>\n",
       "      <td>Dropout</td>\n",
       "      <td>94</td>\n",
       "      <td>48</td>\n",
       "    </tr>\n",
       "    <tr>\n",
       "      <th>1</th>\n",
       "      <td>Enrolled</td>\n",
       "      <td>27</td>\n",
       "      <td>53</td>\n",
       "    </tr>\n",
       "    <tr>\n",
       "      <th>2</th>\n",
       "      <td>Graduate</td>\n",
       "      <td>182</td>\n",
       "      <td>39</td>\n",
       "    </tr>\n",
       "  </tbody>\n",
       "</table>\n",
       "</div>"
      ],
      "text/plain": [
       "   Category  Matches  Mismatches\n",
       "0   Dropout       94          48\n",
       "1  Enrolled       27          53\n",
       "2  Graduate      182          39"
      ]
     },
     "execution_count": 24,
     "metadata": {},
     "output_type": "execute_result"
    }
   ],
   "source": [
    "# Create reformatted confusion matrix DataFrame\n",
    "unseen_conf_summary_df = pd.DataFrame({\n",
    "    \"Category\": label_encoder.classes_,\n",
    "    \"Matches\": matches,\n",
    "    \"Mismatches\": mismatches\n",
    "})\n",
    "print(\"\\nActual Vs Predicted:\\n\")\n",
    "unseen_conf_summary_df"
   ]
  }
 ],
 "metadata": {
  "kernelspec": {
   "display_name": "Python [conda env:base] *",
   "language": "python",
   "name": "conda-base-py"
  },
  "language_info": {
   "codemirror_mode": {
    "name": "ipython",
    "version": 3
   },
   "file_extension": ".py",
   "mimetype": "text/x-python",
   "name": "python",
   "nbconvert_exporter": "python",
   "pygments_lexer": "ipython3",
   "version": "3.12.7"
  }
 },
 "nbformat": 4,
 "nbformat_minor": 4
}
